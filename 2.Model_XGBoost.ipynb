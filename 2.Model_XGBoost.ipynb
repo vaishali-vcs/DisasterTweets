{
 "cells": [
  {
   "cell_type": "markdown",
   "metadata": {},
   "source": [
    "# 1. INTRODUCTION\n",
    "In this notebook we have built the a XGBoost Model and tuned the hyperparameters using GridSearch.\n",
    "We will start off by loading the necessary Python libraries."
   ]
  },
  {
   "cell_type": "code",
   "execution_count": 37,
   "metadata": {},
   "outputs": [],
   "source": [
    "import numpy as np # linear algebra\n",
    "import pandas as pd\n",
    "import re\n",
    "import string #for removing punctuations\n",
    "from nltk.corpus import stopwords\n",
    "from nltk.stem.porter import PorterStemmer\n",
    "import gensim\n",
    "from gensim.models import Word2Vec\n",
    "from sklearn.feature_extraction.text import TfidfVectorizer\n",
    "from sklearn.model_selection import train_test_split, StratifiedKFold\n",
    "from xgboost import XGBClassifier\n",
    "from sklearn.metrics import classification_report, confusion_matrix,accuracy_score\n",
    "from sklearn.model_selection import RandomizedSearchCV, GridSearchCV\n",
    "import pickle, itertools\n",
    "import matplotlib.pyplot as plt\n",
    "\n",
    "import warnings\n",
    "warnings.filterwarnings('ignore')"
   ]
  },
  {
   "cell_type": "markdown",
   "metadata": {},
   "source": [
    "# 2. Load and  Prepare Data\n",
    "Then load the Train and Test data. "
   ]
  },
  {
   "cell_type": "code",
   "execution_count": 9,
   "metadata": {},
   "outputs": [
    {
     "name": "stdout",
     "output_type": "stream",
     "text": [
      "(7613, 5)\n",
      "(3263, 4)\n"
     ]
    }
   ],
   "source": [
    "df_train = pd.read_csv('./train.csv')\n",
    "df_test = pd.read_csv('./test.csv')\n",
    "\n",
    "print(df_train.shape)\n",
    "print(df_test.shape)"
   ]
  },
  {
   "cell_type": "markdown",
   "metadata": {},
   "source": [
    "In our Data Analysis phase, we saw that the Text feature of Train and Test need to be cleaned, before using them. So, the below code cleans the Text feature."
   ]
  },
  {
   "cell_type": "code",
   "execution_count": 10,
   "metadata": {},
   "outputs": [],
   "source": [
    "def remove_url(text):\n",
    "    url = re.compile(r'https?://\\S+|www\\.\\S+')\n",
    "    return url.sub(r'', text)\n",
    "\n",
    "\n",
    "def remove_html(text):\n",
    "    html=re.compile(r'<.*?>')\n",
    "    return html.sub(r'',text)\n",
    "\n",
    "\n",
    "def remove_emoji(text):\n",
    "    emoji_pattern = re.compile(\"[\"\n",
    "                           u\"\\U0001F600-\\U0001F64F\"  # emoticons\n",
    "                           u\"\\U0001F300-\\U0001F5FF\"  # symbols & pictographs\n",
    "                           u\"\\U0001F680-\\U0001F6FF\"  # transport & map symbols\n",
    "                           u\"\\U0001F1E0-\\U0001F1FF\"  # flags (iOS)\n",
    "                           u\"\\U00002702-\\U000027B0\"\n",
    "                           u\"\\U000024C2-\\U0001F251\"\n",
    "                           \"]+\", flags=re.UNICODE)\n",
    "    return emoji_pattern.sub(r'', text)\n",
    "\n",
    "\n",
    "def remove_punct(text):\n",
    "    table=str.maketrans('','', string.punctuation)\n",
    "    return text.translate(table)\n",
    "\n",
    "df_train['text'] = df_train['text'].apply(lambda x: remove_url(x))\n",
    "df_test['text'] = df_test['text'].apply(lambda x: remove_url(x))\n",
    "\n",
    "df_train['text'] = df_train['text'].apply(lambda x: remove_html(x))\n",
    "df_test['text'] = df_test['text'].apply(lambda x: remove_html(x))\n",
    "\n",
    "df_train['text'] = df_train['text'].apply(lambda x: remove_emoji(x))\n",
    "df_test['text'] = df_test['text'].apply(lambda x: remove_emoji(x))\n",
    "\n",
    "df_train['text'] = df_train['text'].apply(lambda x: remove_punct(x))\n",
    "df_test['text'] = df_test['text'].apply(lambda x: remove_punct(x))\n",
    "\n",
    "df_train['text'] = df_train['text'].apply(lambda x: re.sub('[^a-zA-Z]', ' ', x))\n",
    "df_test['text'] = df_test['text'].apply(lambda x: re.sub('[^a-zA-Z]', ' ', x))\n",
    "\n",
    "df_train['text'] = df_train['text'].apply(lambda x: x.lower())\n",
    "df_test['text'] = df_test['text'].apply(lambda x: x.lower())\n"
   ]
  },
  {
   "cell_type": "markdown",
   "metadata": {},
   "source": [
    "# 3. word embedding- transformation from words to vectors.\n",
    "The challenge with textual data is that it needs to be represented in a format that can be mathematically used in solving some problem.\n",
    "In simple words, we need to get an integer representation of a word. \n",
    "\n",
    "One of the most commonly used technique to vectorize text by computing **TD-IDF**. Let us first cover the theoretical part of this before implementing this.\n",
    "\n",
    "TF-IDF stands for **term frequency-inverse document frequency** which assigns weights to the word based on the number of occurrences in the document and even takes into consideration the frequency of the word in all the documents. TF-IDF is an acronym that stands for “Term Frequency – Inverse Document” Frequency which is a product of the below scores assigned to each word.\n",
    "\n",
    "1. **Term Frequency**: This summarizes how often a given word appears within a document.\n",
    "   $$TF(t) = (Number_of_times_term_t_appears_in_a_document) / (Total_number_of_terms_in_the_document)$$\n",
    "2. **Inverse Document Frequency**: This downscales words that appear a lot across documents.\n",
    "   $$IDF(t) = log_e(Total_number_of_documents / Number_of_documents_with_term_t_in_it$$\n",
    "\n",
    "This weight is a statistical measure used to evaluate how important a word is to a document in a collection or corpus. The importance increases proportionally to the number of times a word appears in the document but is offset by the frequency of the word in the corpus. \n",
    "\n",
    "The scores are normalized to values between 0 and 1 and the encoded document vectors can then be used directly with most machine learning algorithms. This approach is better than BOW(Bag of Words) which just counts the occurrences of words because TF-IDF lowers the weight of the words that occur too often in all the sentences like ‘a’, ‘the’, ‘as’ etc and increases the weight of the words that can be important in a sentence.\n",
    "This is useful in the scenarios where we want to get the important words from all the documents and is commonly used in topic modelling.\n",
    "\n",
    "The logic of the below piece of code is explained here.\n",
    "1. Tokenize the each english sentence in \"Text\" feature of Train into seperate words.\n",
    "<br><br>\n",
    "2. Use python impelementation of **Word2Vec** from **gensim** library  to generate vector representations of words that carry semantic meanings for further NLP tasks. Each word vector is typically represented using several hundred dimensions and each unique word in the  our Train(also called corpus) is assigned a vector in the space.\n",
    "Below is the list of Hyperparameters for Word2Vec chosen:<br>\n",
    "    **'size'** which is dimensions of word embeddings = 50<br>\n",
    "    **'min_count'** which indicate the all the words with frequncey less than this value = 5<br>\n",
    "    **'workers'** which indicates worker threads to train the model = 4<br>\n",
    "<br>\n",
    "4. Calculate TF-IDF . Following is the list of hyperparameters of TF-IDF chosen:<br>\n",
    "    **'max_features'** build a vocabulary that only consider the top max_features ordered by term frequency across the corpus =2500 <br> \n",
    "    **'min_df'** hich indicates to ignore terms that have frequency strictly lower than the given threshold=7 <br>\n",
    "    **'max_df'** which indicates to ignore terms that have frequency strictly higher than the given threshold = 0.8 <br>\n",
    "<br>\n",
    "5. Loop through every text Feature in Train to multiply its' TF-IDF value with its word2Vec weight.      \n",
    "\n",
    "We do the above steps for Test as well.\n",
    "Finally, split Train into Train and Val in the ratio 80:20 "
   ]
  },
  {
   "cell_type": "code",
   "execution_count": 11,
   "metadata": {},
   "outputs": [],
   "source": [
    "list_of_sent_train = []\n",
    "list_of_sent_test = []\n",
    "\n",
    "for i in range(0, df_train.shape[0]):\n",
    "    tweet = df_train['text'][i]\n",
    "    tweet = tweet.split()\n",
    "    list_of_sent_train.append(tweet)\n",
    "\n",
    "for i in range(0, df_test.shape[0]):\n",
    "    tweet = df_test['text'][i]\n",
    "    tweet = tweet.split()\n",
    "    list_of_sent_test.append(tweet)\n",
    "\n",
    "w2v_model_train = gensim.models.Word2Vec(list_of_sent_train, min_count=5, size=50, workers=4)\n",
    "w2v_words1 = list(w2v_model_train.wv.vocab)\n",
    "\n",
    "model1 = TfidfVectorizer(max_features=2500, min_df=7, max_df=0.8)\n",
    "tf_idf_matrix = model1.fit_transform(df_train['text'].values)\n",
    "# we are converting a dictionary with word as a key, and the idf as a value\n",
    "dictionary = dict(zip(model1.get_feature_names(), list(model1.idf_)))\n",
    "tfidf_sent_vectors = [];  # the tfidf-w2v for each sentence/review is stored in this list\n",
    "row = 0;\n",
    "for sent in list_of_sent_train:  # for each review/sentence\n",
    "    sent_vec = np.zeros(50)  # as word vectors are of zero length\n",
    "    weight_sum = 0;  # num of words with a valid vector in the sentence/review\n",
    "    for word in sent:  # for each word in a review/sentence\n",
    "        try:\n",
    "            vec = w2v_model_train.wv[word]\n",
    "            # obtain the tf_idfidf of a word in a sentence/review\n",
    "            tf_idf = dictionary[word] * (sent.count(word) / len(sent))\n",
    "            sent_vec += (vec * tf_idf)\n",
    "            weight_sum += tf_idf\n",
    "        except:\n",
    "            pass\n",
    "    sent_vec /= weight_sum\n",
    "    tfidf_sent_vectors.append(sent_vec)\n",
    "    row += 1\n",
    "\n",
    "X_train = tfidf_sent_vectors\n",
    "X_train = np.nan_to_num(X_train)\n",
    "y = df_train['target']\n",
    "\n",
    "\n",
    "w2v_model_test = gensim.models.Word2Vec(list_of_sent_test, min_count=5, size=50, workers=4)\n",
    "w2v_words2 = list(w2v_model_test.wv.vocab)\n",
    "\n",
    "model2 = TfidfVectorizer(max_features=2500, min_df=7, max_df=0.8)\n",
    "tf_idf_matrix = model2.fit_transform(df_test['text'].values)\n",
    "# we are converting a dictionary with word as a key, and the idf as a value\n",
    "dictionary = dict(zip(model2.get_feature_names(), list(model2.idf_)))\n",
    "\n",
    "tfidf_sent_vectors_test = [];  # the tfidf-w2v for each sentence/review is stored in this list\n",
    "row = 0;\n",
    "for sent in list_of_sent_test:  # for each review/sentence\n",
    "    sent_vec = np.zeros(50)  # as word vectors are of zero length\n",
    "    weight_sum = 0;  # num of words with a valid vector in the sentence/review\n",
    "    for word in sent:  # for each word in a review/sentence\n",
    "        try:\n",
    "            vec = w2v_model_test.wv[word]\n",
    "            # obtain the tf_idfidf of a word in a sentence/review\n",
    "            tf_idf = dictionary[word] * (sent.count(word) / len(sent))\n",
    "\n",
    "            sent_vec += (vec * tf_idf)\n",
    "            weight_sum += tf_idf\n",
    "        except:\n",
    "            pass\n",
    "    sent_vec /= weight_sum\n",
    "    tfidf_sent_vectors_test.append(sent_vec)\n",
    "    row += 1\n",
    "\n",
    "x_test = tfidf_sent_vectors_test\n",
    "x_test = np.nan_to_num(x_test)\n",
    "X_tra, X_val, y_tra, y_val = train_test_split(X_train, y, stratify=df_train['target'], test_size=0.2,\n",
    "                                              random_state=42)"
   ]
  },
  {
   "cell_type": "code",
   "execution_count": 41,
   "metadata": {},
   "outputs": [
    {
     "name": "stdout",
     "output_type": "stream",
     "text": [
      "Fitting 5 folds for each of 10 candidates, totalling 50 fits\n"
     ]
    },
    {
     "name": "stderr",
     "output_type": "stream",
     "text": [
      "[Parallel(n_jobs=5)]: Using backend LokyBackend with 5 concurrent workers.\n",
      "[Parallel(n_jobs=5)]: Done  31 tasks      | elapsed:  4.2min\n",
      "[Parallel(n_jobs=5)]: Done  50 out of  50 | elapsed:  5.1min finished\n"
     ]
    },
    {
     "name": "stdout",
     "output_type": "stream",
     "text": [
      "{'subsample': 0.99, 'n_estimators': 200, 'min_child_weight': 15, 'max_depth': 8, 'learning_rate': 0.1, 'gamma': 0.059, 'alpha': 6}\n"
     ]
    }
   ],
   "source": [
    "parameters = {'learning_rate': [0.1, 0.15],\n",
    "              'max_depth': [7,8,9],\n",
    "              'min_child_weight': [14,15,16],\n",
    "              'subsample': [0.9,0.99],\n",
    "              'n_estimators': [150,200,210, 1000],\n",
    "              'gamma': [0.05, 0.059],\n",
    "              'alpha': [6,7],\n",
    "              }\n",
    "model = XGBClassifier(objective = \"binary:logistic\")\n",
    "skf = StratifiedKFold(n_splits=3, shuffle=True, random_state=1001)\n",
    "\n",
    "clf = RandomizedSearchCV(model, parameters, n_jobs=5,\n",
    "                   cv=5,\n",
    "                   scoring='roc_auc',\n",
    "                   verbose=2, refit=True)\n",
    "\n",
    "clf.fit(X_tra, y_tra)\n",
    "\n",
    "pickle.dump(clf.best_estimator_, open(\"./models/xgbmodel.pickle\", \"wb\"))\n",
    "\n",
    "print(clf.best_params_)\n",
    "\n",
    "y_pred = clf.best_estimator_.predict(X_val)\n",
    "\n",
    "Test_Prediction = clf.best_estimator_.predict(x_test)\n",
    "sub_df = pd.DataFrame({\"id\": df_test[\"id\"].values})\n",
    "sub_df[\"target\"] = Test_Prediction\n",
    "sub_df.to_csv(\"./outputs/xgbsubmission_final.csv\", index=False)"
   ]
  },
  {
   "cell_type": "markdown",
   "metadata": {},
   "source": [
    "# Confusion Matrix and Classification Report"
   ]
  },
  {
   "cell_type": "code",
   "execution_count": 39,
   "metadata": {},
   "outputs": [],
   "source": [
    "def plot_confusion_matrix(cm, classes,\n",
    "                          normalize=False,\n",
    "                          title='Confusion matrix',\n",
    "                          cmap=plt.cm.Blues):\n",
    "    \"\"\"\n",
    "    This function prints and plots the confusion matrix.\n",
    "    Normalization can be applied by setting `normalize=True`.\n",
    "    \"\"\"\n",
    "    if normalize:\n",
    "        cm = cm.astype('float') / cm.sum(axis=1)[:, np.newaxis]\n",
    "        print(\"Normalized confusion matrix\")\n",
    "    else:\n",
    "        print('Confusion matrix, without normalization')\n",
    "\n",
    "    plt.imshow(cm, interpolation='nearest', cmap=cmap)\n",
    "    plt.title(title)\n",
    "    plt.colorbar()\n",
    "    tick_marks = np.arange(len(classes))\n",
    "    plt.xticks(tick_marks, classes, rotation=45)\n",
    "    plt.yticks(tick_marks, classes)\n",
    "\n",
    "    fmt = '.2f' if normalize else 'd'\n",
    "    thresh = cm.max() / 2.\n",
    "    for i, j in itertools.product(range(cm.shape[0]), range(cm.shape[1])):\n",
    "        plt.text(j, i, format(cm[i, j], fmt),\n",
    "                 horizontalalignment=\"center\",\n",
    "                 color=\"white\" if cm[i, j] > thresh else \"black\")\n",
    "\n",
    "    plt.ylabel('True label')\n",
    "    plt.xlabel('Predicted label')\n",
    "    plt.tight_layout()"
   ]
  },
  {
   "cell_type": "code",
   "execution_count": 40,
   "metadata": {},
   "outputs": [
    {
     "name": "stdout",
     "output_type": "stream",
     "text": [
      "Confusion matrix, without normalization\n"
     ]
    },
    {
     "data": {
      "image/png": "[encoded data removed]",
      "text/plain": [
       "<Figure size 432x288 with 2 Axes>"
      ]
     },
     "metadata": {
      "needs_background": "light"
     },
     "output_type": "display_data"
    }
   ],
   "source": [
    "classes = ['disaster','not disaster']\n",
    "plot_confusion_matrix(confusion_matrix(y_val, y_pred), classes)"
   ]
  },
  {
   "cell_type": "code",
   "execution_count": 42,
   "metadata": {},
   "outputs": [
    {
     "name": "stdout",
     "output_type": "stream",
     "text": [
      "              precision    recall  f1-score   support\n",
      "\n",
      "           0       0.74      0.80      0.77       869\n",
      "           1       0.70      0.63      0.66       654\n",
      "\n",
      "    accuracy                           0.72      1523\n",
      "   macro avg       0.72      0.71      0.71      1523\n",
      "weighted avg       0.72      0.72      0.72      1523\n",
      "\n",
      "0.7235718975705844\n"
     ]
    }
   ],
   "source": [
    "print(classification_report(y_val, y_pred))\n",
    "print(accuracy_score(y_val, y_pred))"
   ]
  },
  {
   "cell_type": "code",
   "execution_count": null,
   "metadata": {},
   "outputs": [],
   "source": []
  }
 ],
 "metadata": {
  "kernelspec": {
   "display_name": "Python 3",
   "language": "python",
   "name": "python3"
  },
  "language_info": {
   "codemirror_mode": {
    "name": "ipython",
    "version": 3
   },
   "file_extension": ".py",
   "mimetype": "text/x-python",
   "name": "python",
   "nbconvert_exporter": "python",
   "pygments_lexer": "ipython3",
   "version": "3.7.4"
  }
 },
 "nbformat": 4,
 "nbformat_minor": 2
}
